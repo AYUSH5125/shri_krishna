{
 "cells": [
  {
   "cell_type": "code",
   "execution_count": null,
   "id": "66fe9528",
   "metadata": {},
   "outputs": [],
   "source": [
    "def lcw(a,b,i,j):\n",
    "    for i in range(len(a)):\n",
    "        lcw[i][len(b)-1]=0\n",
    "    for j in range(len(b)):\n",
    "        lcw[j][len(a)-1]=0\n",
    "    maxlcw=0\n",
    "    for c in range(len(a)):\n",
    "        for w in range(len(b)):\n",
    "            \n",
    "            "
   ]
  },
  {
   "cell_type": "markdown",
   "id": "1057044e",
   "metadata": {},
   "source": [
    "print(\"hello world\")"
   ]
  },
  {
   "cell_type": "markdown",
   "id": "d4fbc7ac",
   "metadata": {},
   "source": [
    "### shri krishna"
   ]
  },
  {
   "cell_type": "markdown",
   "id": "5e7a2c34",
   "metadata": {},
   "source": [
    "### ;shrikrishna"
   ]
  },
  {
   "cell_type": "markdown",
   "id": "a438404b",
   "metadata": {},
   "source": [
    "#### dmwkfdnewikjeik"
   ]
  },
  {
   "cell_type": "markdown",
   "id": "ec1a134d",
   "metadata": {},
   "source": [
    "###### dnjwjkhdnwikhd"
   ]
  },
  {
   "cell_type": "markdown",
   "id": "4b5cc964",
   "metadata": {},
   "source": [
    "## mxwlkmcwlokd3wlk"
   ]
  },
  {
   "cell_type": "markdown",
   "id": "06ea8b00",
   "metadata": {},
   "source": [
    "# nceknceikhncihn"
   ]
  },
  {
   "cell_type": "markdown",
   "id": "155d3af0",
   "metadata": {},
   "source": [
    "########## nwncejcnejec"
   ]
  },
  {
   "cell_type": "code",
   "execution_count": 10,
   "id": "01dec30a",
   "metadata": {},
   "outputs": [
    {
     "ename": "SyntaxError",
     "evalue": "cannot assign to expression here. Maybe you meant '==' instead of '='? (3889408198.py, line 1)",
     "output_type": "error",
     "traceback": [
      "\u001b[1;36m  Cell \u001b[1;32mIn[10], line 1\u001b[1;36m\u001b[0m\n\u001b[1;33m    +name='jdqikdhnw3idh'\u001b[0m\n\u001b[1;37m    ^\u001b[0m\n\u001b[1;31mSyntaxError\u001b[0m\u001b[1;31m:\u001b[0m cannot assign to expression here. Maybe you meant '==' instead of '='?\n"
     ]
    }
   ],
   "source": [
    "+name='jdqikdhnw3idh'"
   ]
  },
  {
   "cell_type": "code",
   "execution_count": 13,
   "id": "1779ac98",
   "metadata": {},
   "outputs": [
    {
     "data": {
      "text/plain": [
       "'ncikinsck'"
      ]
     },
     "execution_count": 13,
     "metadata": {},
     "output_type": "execute_result"
    }
   ],
   "source": [
    "_ndwdn='ncikinsck'\n",
    "_ndwdn"
   ]
  },
  {
   "cell_type": "markdown",
   "id": "cdf07ffe",
   "metadata": {},
   "source": [
    "# DATA TYPES"
   ]
  },
  {
   "cell_type": "code",
   "execution_count": 14,
   "id": "ffc6982c",
   "metadata": {},
   "outputs": [
    {
     "data": {
      "text/plain": [
       "int"
      ]
     },
     "execution_count": 14,
     "metadata": {},
     "output_type": "execute_result"
    }
   ],
   "source": [
    "x=20\n",
    "type(x)"
   ]
  },
  {
   "cell_type": "code",
   "execution_count": 15,
   "id": "7c7ea39c",
   "metadata": {},
   "outputs": [
    {
     "data": {
      "text/plain": [
       "float"
      ]
     },
     "execution_count": 15,
     "metadata": {},
     "output_type": "execute_result"
    }
   ],
   "source": [
    "x=10.33\n",
    "type(x)"
   ]
  },
  {
   "cell_type": "code",
   "execution_count": 18,
   "id": "5804ca06",
   "metadata": {},
   "outputs": [
    {
     "data": {
      "text/plain": [
       "bool"
      ]
     },
     "execution_count": 18,
     "metadata": {},
     "output_type": "execute_result"
    }
   ],
   "source": [
    "x=False\n",
    "type(x)"
   ]
  },
  {
   "cell_type": "code",
   "execution_count": 19,
   "id": "c4ebffb3",
   "metadata": {},
   "outputs": [
    {
     "data": {
      "text/plain": [
       "str"
      ]
     },
     "execution_count": 19,
     "metadata": {},
     "output_type": "execute_result"
    }
   ],
   "source": [
    "x=\"teruee\"\n",
    "type(x)"
   ]
  },
  {
   "cell_type": "code",
   "execution_count": 20,
   "id": "b9bcc676",
   "metadata": {},
   "outputs": [
    {
     "data": {
      "text/plain": [
       "str"
      ]
     },
     "execution_count": 20,
     "metadata": {},
     "output_type": "execute_result"
    }
   ],
   "source": [
    "x='hsh'\n",
    "type(x)"
   ]
  },
  {
   "cell_type": "code",
   "execution_count": 21,
   "id": "53b7ebbf",
   "metadata": {},
   "outputs": [
    {
     "data": {
      "text/plain": [
       "20"
      ]
     },
     "execution_count": 21,
     "metadata": {},
     "output_type": "execute_result"
    }
   ],
   "source": [
    "x,y=10,20\n",
    "x\n",
    "y"
   ]
  },
  {
   "cell_type": "code",
   "execution_count": 22,
   "id": "4727c67c",
   "metadata": {},
   "outputs": [
    {
     "data": {
      "text/plain": [
       "(20, 10)"
      ]
     },
     "execution_count": 22,
     "metadata": {},
     "output_type": "execute_result"
    }
   ],
   "source": [
    "y,x"
   ]
  },
  {
   "cell_type": "code",
   "execution_count": 23,
   "id": "d7d0f936",
   "metadata": {},
   "outputs": [
    {
     "data": {
      "text/plain": [
       "(10, int)"
      ]
     },
     "execution_count": 23,
     "metadata": {},
     "output_type": "execute_result"
    }
   ],
   "source": [
    "x,type(x)"
   ]
  },
  {
   "cell_type": "code",
   "execution_count": 24,
   "id": "b3fccb33",
   "metadata": {},
   "outputs": [
    {
     "data": {
      "text/plain": [
       "(20, 30)"
      ]
     },
     "execution_count": 24,
     "metadata": {},
     "output_type": "execute_result"
    }
   ],
   "source": [
    "y,y+x"
   ]
  },
  {
   "cell_type": "code",
   "execution_count": 25,
   "id": "08f823d5",
   "metadata": {},
   "outputs": [
    {
     "data": {
      "text/plain": [
       "(20, False)"
      ]
     },
     "execution_count": 25,
     "metadata": {},
     "output_type": "execute_result"
    }
   ],
   "source": [
    "y,y==x"
   ]
  },
  {
   "cell_type": "code",
   "execution_count": 26,
   "id": "3779fc89",
   "metadata": {},
   "outputs": [
    {
     "data": {
      "text/plain": [
       "2114"
      ]
     },
     "execution_count": 26,
     "metadata": {},
     "output_type": "execute_result"
    }
   ],
   "source": [
    "u=123\n",
    "e=1991\n",
    "u+e"
   ]
  },
  {
   "cell_type": "code",
   "execution_count": 29,
   "id": "94d64d67",
   "metadata": {},
   "outputs": [
    {
     "data": {
      "text/plain": [
       "3228"
      ]
     },
     "execution_count": 29,
     "metadata": {},
     "output_type": "execute_result"
    }
   ],
   "source": [
    "126+3102"
   ]
  },
  {
   "cell_type": "code",
   "execution_count": 31,
   "id": "ea3f0faa",
   "metadata": {},
   "outputs": [
    {
     "data": {
      "text/plain": [
       "5251"
      ]
     },
     "execution_count": 31,
     "metadata": {},
     "output_type": "execute_result"
    }
   ],
   "source": [
    "Out[29]+2023"
   ]
  },
  {
   "cell_type": "markdown",
   "id": "ce4ac012",
   "metadata": {},
   "source": [
    "#implement data type conversions\n",
    "### have great fun with krishna"
   ]
  },
  {
   "cell_type": "markdown",
   "id": "8871589b",
   "metadata": {},
   "source": [
    "### print your name\n",
    "### print your age\n",
    "### print your goal ..."
   ]
  },
  {
   "cell_type": "code",
   "execution_count": 32,
   "id": "05102321",
   "metadata": {},
   "outputs": [
    {
     "data": {
      "text/plain": [
       "str"
      ]
     },
     "execution_count": 32,
     "metadata": {},
     "output_type": "execute_result"
    }
   ],
   "source": [
    "name='ayush'\n",
    "type(name)\n",
    "age=18\n",
    "type(age)\n",
    "goal='krishna'\n",
    "type(goal)"
   ]
  },
  {
   "cell_type": "code",
   "execution_count": 33,
   "id": "93967bf3",
   "metadata": {},
   "outputs": [
    {
     "data": {
      "text/plain": [
       "str"
      ]
     },
     "execution_count": 33,
     "metadata": {},
     "output_type": "execute_result"
    }
   ],
   "source": [
    "name='ayush'\n",
    "type(name)"
   ]
  },
  {
   "cell_type": "code",
   "execution_count": 34,
   "id": "94a7e4bd",
   "metadata": {},
   "outputs": [
    {
     "name": "stdout",
     "output_type": "stream",
     "text": [
      "18\n"
     ]
    },
    {
     "data": {
      "text/plain": [
       "int"
      ]
     },
     "execution_count": 34,
     "metadata": {},
     "output_type": "execute_result"
    }
   ],
   "source": [
    "age=18\n",
    "print(age)\n",
    "type(age)"
   ]
  },
  {
   "cell_type": "code",
   "execution_count": 35,
   "id": "6e5ec261",
   "metadata": {},
   "outputs": [
    {
     "name": "stdout",
     "output_type": "stream",
     "text": [
      "ayush\n"
     ]
    }
   ],
   "source": [
    "print(name)"
   ]
  },
  {
   "cell_type": "code",
   "execution_count": 36,
   "id": "41eace52",
   "metadata": {},
   "outputs": [
    {
     "name": "stdout",
     "output_type": "stream",
     "text": [
      "krishna\n"
     ]
    },
    {
     "data": {
      "text/plain": [
       "str"
      ]
     },
     "execution_count": 36,
     "metadata": {},
     "output_type": "execute_result"
    }
   ],
   "source": [
    "goal='krishna'\n",
    "print(goal)\n",
    "type(goal)"
   ]
  },
  {
   "cell_type": "code",
   "execution_count": null,
   "id": "e8f411e5",
   "metadata": {},
   "outputs": [],
   "source": []
  }
 ],
 "metadata": {
  "kernelspec": {
   "display_name": "Python 3 (ipykernel)",
   "language": "python",
   "name": "python3"
  },
  "language_info": {
   "codemirror_mode": {
    "name": "ipython",
    "version": 3
   },
   "file_extension": ".py",
   "mimetype": "text/x-python",
   "name": "python",
   "nbconvert_exporter": "python",
   "pygments_lexer": "ipython3",
   "version": "3.10.9"
  }
 },
 "nbformat": 4,
 "nbformat_minor": 5
}
